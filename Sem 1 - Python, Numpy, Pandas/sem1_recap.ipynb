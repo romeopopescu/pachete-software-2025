{
 "cells": [
  {
   "cell_type": "markdown",
   "metadata": {},
   "source": [
    "In the first seminar, we will revise some of the most important concepts applied in the Python programming language, along with some explanatory notions for the Numpy and Pandas packages, widely used for mathematical operations and data analysis. "
   ]
  },
  {
   "cell_type": "markdown",
   "metadata": {},
   "source": [
    "## Python Concepts"
   ]
  },
  {
   "cell_type": "markdown",
   "metadata": {},
   "source": [
    "#### 1. Variables and datatypes"
   ]
  },
  {
   "cell_type": "markdown",
   "metadata": {},
   "source": [
    "Variables are used to store values, and Python is dynamically typed, meaning variable types are assigned automatically. Python has different data types, including integers, floats, strings, booleans, lists, tuples, sets, and dictionaries. Python also allows type conversion, where one data type can be converted to another, such as converting a string to an integer.\n",
    "\n",
    "Python supports several built-in data types:\n",
    "\n",
    "- Integer (int): whole numbers, such as 10, -5, and 1000;\n",
    "- Float (float): decimal numbers, such as 3.14, -0.01, and 2.5;\n",
    "- String (str): text values enclosed in quotes, such as \"Hello\" and 'Python';\n",
    "- Boolean (bool): represents True or False;\n",
    "- Complex Numbers (complex): numbers with a real and imaginary part, e.g., 2 + 3j;\n",
    "- NoneType (None): represents an absence of value."
   ]
  },
  {
   "cell_type": "code",
   "execution_count": 3,
   "metadata": {},
   "outputs": [
    {
     "name": "stdout",
     "output_type": "stream",
     "text": [
      "<class 'int'> <class 'float'> <class 'str'> <class 'bool'> <class 'complex'>\n"
     ]
    }
   ],
   "source": [
    "# Example 1: assigning and printing different data types\n",
    "x = 42             # integer\n",
    "y = 3.14           # float\n",
    "name = \"Alice\"     # string\n",
    "is_student = True  # boolean\n",
    "comp = 1 + 2j # complex\n",
    "\n",
    "print(type(x), type(y), type(name), type(is_student), type(comp))"
   ]
  },
  {
   "cell_type": "code",
   "execution_count": 2,
   "metadata": {},
   "outputs": [
    {
     "name": "stdout",
     "output_type": "stream",
     "text": [
      "200\n"
     ]
    }
   ],
   "source": [
    "# Example 2: type conversion\n",
    "a = \"100\"\n",
    "b = int(a)  # convert string to integer\n",
    "print(b * 2)  # 200"
   ]
  },
  {
   "cell_type": "code",
   "execution_count": 3,
   "metadata": {},
   "outputs": [
    {
     "name": "stdout",
     "output_type": "stream",
     "text": [
      "This is a float\n"
     ]
    }
   ],
   "source": [
    "# Example 3: checking data type dynamically\n",
    "var = 5.5\n",
    "if isinstance(var, float):\n",
    "    print(\"This is a float\")"
   ]
  },
  {
   "cell_type": "markdown",
   "metadata": {},
   "source": [
    "#### 2. Conditional statements (if-else)"
   ]
  },
  {
   "cell_type": "markdown",
   "metadata": {},
   "source": [
    "Conditional statements in Python allow decision-making by executing different blocks of code based on whether a condition evaluates to True or False. Python also supports ternary operators, which allow concise conditional expressions in a single line.\n",
    "\n"
   ]
  },
  {
   "cell_type": "code",
   "execution_count": 4,
   "metadata": {},
   "outputs": [
    {
     "name": "stdout",
     "output_type": "stream",
     "text": [
      "You are an adult\n"
     ]
    }
   ],
   "source": [
    "# Example 1: basic if-else\n",
    "age = 20\n",
    "if age >= 18:\n",
    "    print(\"You are an adult\")\n",
    "else:\n",
    "    print(\"You are a minor\")"
   ]
  },
  {
   "cell_type": "code",
   "execution_count": 5,
   "metadata": {},
   "outputs": [
    {
     "name": "stdout",
     "output_type": "stream",
     "text": [
      "Grade: B\n"
     ]
    }
   ],
   "source": [
    "# Example 2: multiple conditions using elif\n",
    "score = 85\n",
    "if score >= 90:\n",
    "    print(\"Grade: A\")\n",
    "elif score >= 75:\n",
    "    print(\"Grade: B\")\n",
    "else:\n",
    "    print(\"Grade: C\")"
   ]
  },
  {
   "cell_type": "code",
   "execution_count": 6,
   "metadata": {},
   "outputs": [
    {
     "name": "stdout",
     "output_type": "stream",
     "text": [
      "Positive\n"
     ]
    }
   ],
   "source": [
    "# Example 3: ternary conditional expression (equivalent of the ternary operator '?' from C/C++/JS languages)\n",
    "x = 5\n",
    "result = \"Positive\" if x > 0 else \"Negative\"\n",
    "print(result)"
   ]
  },
  {
   "cell_type": "markdown",
   "metadata": {},
   "source": [
    "#### 3. Lists and list comprehensions"
   ]
  },
  {
   "cell_type": "markdown",
   "metadata": {},
   "source": [
    "Lists are ordered, mutable collections that store multiple values. They can hold different data types in a single list. Lists are one of Python’s most versatile data structures and allow:\n",
    "\n",
    "- indexing and slicing to access elements;\n",
    "- appending and removing elements dynamically;\n",
    "- sorting, reversing, and counting occurrences\n",
    "\n",
    "Python also supports list comprehensions, which provide a concise way to generate lists using a single line of code. They are widely used for filtering and transforming data."
   ]
  },
  {
   "cell_type": "code",
   "execution_count": 7,
   "metadata": {},
   "outputs": [
    {
     "name": "stdout",
     "output_type": "stream",
     "text": [
      "['apple', 'banana', 'cherry', 'orange']\n"
     ]
    }
   ],
   "source": [
    "# Example 1: creating and modifying lists\n",
    "fruits = [\"apple\", \"banana\", \"cherry\"]\n",
    "fruits.append(\"orange\")\n",
    "print(fruits)"
   ]
  },
  {
   "cell_type": "code",
   "execution_count": 8,
   "metadata": {},
   "outputs": [
    {
     "name": "stdout",
     "output_type": "stream",
     "text": [
      "[1, 2, 3]\n"
     ]
    }
   ],
   "source": [
    "# Example 2: list slicing\n",
    "numbers = [0, 1, 2, 3, 4, 5]\n",
    "print(numbers[1:4])  "
   ]
  },
  {
   "cell_type": "code",
   "execution_count": 9,
   "metadata": {},
   "outputs": [
    {
     "name": "stdout",
     "output_type": "stream",
     "text": [
      "[0, 1, 4, 9, 16]\n"
     ]
    }
   ],
   "source": [
    "# Example 3: list comprehension\n",
    "squares = [x**2 for x in range(5)]\n",
    "print(squares)"
   ]
  },
  {
   "cell_type": "markdown",
   "metadata": {},
   "source": [
    "#### 4. Loops (for & while)"
   ]
  },
  {
   "cell_type": "markdown",
   "metadata": {},
   "source": [
    "Loops are used to execute a block of code repeatedly until a certain condition is met.\n",
    "- for loops: commonly used when iterating over a sequence, such as a list, tuple, string, or range of numbers;\n",
    "- while loops: execute as long as the given condition remains True\n",
    "\n",
    "Loop control statements include:\n",
    "\n",
    "- break: terminates the loop early;\n",
    "- continue: skips the current iteration and moves to the next one;\n",
    "- pass: acts as a placeholder without executing any action."
   ]
  },
  {
   "cell_type": "code",
   "execution_count": 10,
   "metadata": {},
   "outputs": [
    {
     "name": "stdout",
     "output_type": "stream",
     "text": [
      "1\n",
      "4\n",
      "9\n",
      "16\n",
      "25\n"
     ]
    }
   ],
   "source": [
    "# Example 1: for loop iterating over a list\n",
    "numbers = [1, 2, 3, 4, 5]\n",
    "for num in numbers:\n",
    "    print(num ** 2)  # Square each number"
   ]
  },
  {
   "cell_type": "code",
   "execution_count": 11,
   "metadata": {},
   "outputs": [
    {
     "name": "stdout",
     "output_type": "stream",
     "text": [
      "Iteration 1\n",
      "Iteration 2\n",
      "Iteration 3\n"
     ]
    }
   ],
   "source": [
    "# Example 2: while loop with a counter\n",
    "i = 1\n",
    "while i <= 3:\n",
    "    print(f\"Iteration {i}\")\n",
    "    i += 1"
   ]
  },
  {
   "cell_type": "code",
   "execution_count": 12,
   "metadata": {},
   "outputs": [
    {
     "name": "stdout",
     "output_type": "stream",
     "text": [
      "5\n",
      "10\n",
      "15\n"
     ]
    }
   ],
   "source": [
    "# Example 3: using range() in a for loop\n",
    "for i in range(5, 16, 5):\n",
    "    print(i)  # Outputs: 5, 10, 15"
   ]
  },
  {
   "cell_type": "markdown",
   "metadata": {},
   "source": [
    "#### 5. Tuples"
   ]
  },
  {
   "cell_type": "markdown",
   "metadata": {},
   "source": [
    "Tuples are immutable sequences, meaning their values cannot be changed once assigned. Like lists, tuples store multiple elements but offer better performance due to their immutability.\n"
   ]
  },
  {
   "cell_type": "code",
   "execution_count": 13,
   "metadata": {},
   "outputs": [
    {
     "name": "stdout",
     "output_type": "stream",
     "text": [
      "10\n"
     ]
    }
   ],
   "source": [
    "# Example 1: creating a tuple\n",
    "coordinates = (10, 20)\n",
    "print(coordinates[0])"
   ]
  },
  {
   "cell_type": "code",
   "execution_count": 14,
   "metadata": {},
   "outputs": [
    {
     "name": "stdout",
     "output_type": "stream",
     "text": [
      "5 15\n"
     ]
    }
   ],
   "source": [
    "# Example 2: tuple unpacking\n",
    "x, y = (5, 15)\n",
    "print(x, y)"
   ]
  },
  {
   "cell_type": "code",
   "execution_count": 15,
   "metadata": {},
   "outputs": [
    {
     "name": "stdout",
     "output_type": "stream",
     "text": [
      "(1, 2, 3)\n"
     ]
    }
   ],
   "source": [
    "# Example 3: converting a list to a tuple\n",
    "numbers = [1, 2, 3]\n",
    "tuple_numbers = tuple(numbers)\n",
    "print(tuple_numbers)"
   ]
  },
  {
   "cell_type": "markdown",
   "metadata": {},
   "source": [
    "#### 6. Dictionaries"
   ]
  },
  {
   "cell_type": "markdown",
   "metadata": {},
   "source": [
    "Dictionaries (dict) are unordered collections of key-value pairs. They offer fast lookups and allow mapping of unique keys to specific values.\n",
    "\n",
    "- defined using curly braces {};\n",
    "- keys must be unique and immutable (strings, numbers, or tuples);\n",
    "- values can be of any data type;\n",
    "- dictionaries are widely used for structured data storage and retrieval, such as JSON-like data, API responses, and configuration settings"
   ]
  },
  {
   "cell_type": "code",
   "execution_count": 16,
   "metadata": {},
   "outputs": [
    {
     "name": "stdout",
     "output_type": "stream",
     "text": [
      "Alice\n"
     ]
    }
   ],
   "source": [
    "# Example 1: creating a dictionary\n",
    "person = {\"name\": \"Alice\", \"age\": 30}\n",
    "print(person[\"name\"])"
   ]
  },
  {
   "cell_type": "code",
   "execution_count": 17,
   "metadata": {},
   "outputs": [
    {
     "name": "stdout",
     "output_type": "stream",
     "text": [
      "{'name': 'Alice', 'age': 30, 'city': 'New York'}\n"
     ]
    }
   ],
   "source": [
    "# Example 2: adding new key-value pairs\n",
    "person[\"city\"] = \"New York\"\n",
    "print(person)"
   ]
  },
  {
   "cell_type": "code",
   "execution_count": 18,
   "metadata": {},
   "outputs": [
    {
     "name": "stdout",
     "output_type": "stream",
     "text": [
      "name: Alice\n",
      "age: 30\n",
      "city: New York\n"
     ]
    }
   ],
   "source": [
    "# Example 3: iterating over a dictionary\n",
    "for key, value in person.items():\n",
    "    print(f\"{key}: {value}\")"
   ]
  },
  {
   "cell_type": "markdown",
   "metadata": {},
   "source": [
    "#### 7. Sets"
   ]
  },
  {
   "cell_type": "markdown",
   "metadata": {},
   "source": [
    "Sets are unordered collections of unique elements. They eliminate duplicates and support set operations like union, intersection, and difference.\n",
    "Properties:\n",
    "\n",
    "- defined using curly braces {};\n",
    "- do not allow duplicate values;\n",
    "- unordered, meaning elements have no fixed position;\n",
    "- used for tasks like removing duplicates from lists or mathematical set operations."
   ]
  },
  {
   "cell_type": "code",
   "execution_count": 19,
   "metadata": {},
   "outputs": [
    {
     "name": "stdout",
     "output_type": "stream",
     "text": [
      "{1, 2, 3}\n"
     ]
    }
   ],
   "source": [
    "# Example 1: Creating a set\n",
    "numbers = {1, 2, 3, 3, 2, 1}\n",
    "print(numbers)  "
   ]
  },
  {
   "cell_type": "code",
   "execution_count": 20,
   "metadata": {},
   "outputs": [
    {
     "name": "stdout",
     "output_type": "stream",
     "text": [
      "{1, 2, 3, 4}\n"
     ]
    }
   ],
   "source": [
    "# Example 2: Adding elements\n",
    "numbers.add(4)\n",
    "print(numbers)"
   ]
  },
  {
   "cell_type": "code",
   "execution_count": 21,
   "metadata": {},
   "outputs": [
    {
     "name": "stdout",
     "output_type": "stream",
     "text": [
      "{1, 2, 3, 4, 5}\n",
      "{3}\n",
      "{1, 2}\n"
     ]
    }
   ],
   "source": [
    "# Example 3: set operations\n",
    "set1 = {1, 2, 3}\n",
    "set2 = {3, 4, 5}\n",
    "print(set1 | set2)  # Union\n",
    "print(set1 & set2)  # Intersection\n",
    "print(set1 - set2) # Difference"
   ]
  },
  {
   "cell_type": "markdown",
   "metadata": {},
   "source": [
    "#### 8. Functions"
   ]
  },
  {
   "cell_type": "markdown",
   "metadata": {},
   "source": [
    "Functions are reusable blocks of code that perform a specific task. Instead of rewriting code, you can define a function and call it whenever needed\n",
    "\n",
    "The function components you should have in mind:\n",
    "- Function definition: Created using the def keyword;\n",
    "- Parameters: optional inputs passed to a function;\n",
    "- Return value: the function may return a result using the return statement\n",
    "\n",
    "Functions can have the following types of params:\n",
    "\n",
    "- default parameters (providing default values if none are specified);\n",
    "- arbitrary arguments (*args) to accept multiple values;\n",
    "- keyword arguments (**kwargs) to accept multiple named arguments"
   ]
  },
  {
   "cell_type": "code",
   "execution_count": 22,
   "metadata": {},
   "outputs": [
    {
     "name": "stdout",
     "output_type": "stream",
     "text": [
      "Hello, Alice!\n"
     ]
    }
   ],
   "source": [
    "# Example 1: function with parameters\n",
    "def greet(name):\n",
    "    return f\"Hello, {name}!\"\n",
    "\n",
    "print(greet(\"Alice\"))"
   ]
  },
  {
   "cell_type": "code",
   "execution_count": 23,
   "metadata": {},
   "outputs": [
    {
     "name": "stdout",
     "output_type": "stream",
     "text": [
      "9\n",
      "27\n"
     ]
    }
   ],
   "source": [
    "# Example 2: default parameters\n",
    "def power(base, exponent=2):\n",
    "    return base ** exponent\n",
    "\n",
    "print(power(3))     # defaults to square\n",
    "print(power(3, 3))  # cube"
   ]
  },
  {
   "cell_type": "code",
   "execution_count": 24,
   "metadata": {},
   "outputs": [
    {
     "name": "stdout",
     "output_type": "stream",
     "text": [
      "(10, 30, 60)\n"
     ]
    }
   ],
   "source": [
    "# Example 3: function returning multiple values\n",
    "def min_max_sum(numbers):\n",
    "    return min(numbers), max(numbers), sum(numbers)\n",
    "\n",
    "print(min_max_sum([10, 20, 30])) "
   ]
  },
  {
   "cell_type": "markdown",
   "metadata": {},
   "source": [
    "#### 9. Exception handling"
   ]
  },
  {
   "cell_type": "code",
   "execution_count": 25,
   "metadata": {},
   "outputs": [
    {
     "name": "stdout",
     "output_type": "stream",
     "text": [
      "Cannot divide by zero!\n"
     ]
    }
   ],
   "source": [
    "# Example 1: try-except block\n",
    "try:\n",
    "    x = 5 / 0\n",
    "except ZeroDivisionError:\n",
    "    print(\"Cannot divide by zero!\")"
   ]
  },
  {
   "cell_type": "code",
   "execution_count": 26,
   "metadata": {},
   "outputs": [
    {
     "name": "stdout",
     "output_type": "stream",
     "text": [
      "Invalid conversion!\n"
     ]
    }
   ],
   "source": [
    "# Example 2: Handling multiple exceptions\n",
    "try:\n",
    "    y = int(\"hello\")\n",
    "except (ValueError, TypeError):\n",
    "    print(\"Invalid conversion!\")"
   ]
  },
  {
   "cell_type": "code",
   "execution_count": 27,
   "metadata": {},
   "outputs": [
    {
     "name": "stdout",
     "output_type": "stream",
     "text": [
      "File not found!\n",
      "Execution completed.\n"
     ]
    }
   ],
   "source": [
    "# Example 3: using finally\n",
    "try:\n",
    "    file = open(\"file.txt\", \"r\")\n",
    "except FileNotFoundError:\n",
    "    print(\"File not found!\")\n",
    "finally:\n",
    "    print(\"Execution completed.\")"
   ]
  },
  {
   "cell_type": "markdown",
   "metadata": {},
   "source": [
    "#### 10. List sorting"
   ]
  },
  {
   "cell_type": "markdown",
   "metadata": {},
   "source": [
    "Python provides built-in methods for sorting and filtering lists dynamically.\n",
    "\n",
    "- sort() modifies lists in place;\n",
    "- sorted() returns a new sorted list;"
   ]
  },
  {
   "cell_type": "code",
   "execution_count": 28,
   "metadata": {},
   "outputs": [
    {
     "name": "stdout",
     "output_type": "stream",
     "text": [
      "[1, 2, 3, 5, 8, 9]\n",
      "[9, 8, 5, 3, 2, 1]\n"
     ]
    }
   ],
   "source": [
    "numbers = [5, 3, 8, 1, 9, 2]\n",
    "\n",
    "# Sorting in ascending order\n",
    "numbers.sort()\n",
    "print(numbers) \n",
    "\n",
    "# Sorting in descending order\n",
    "sorted_numbers = sorted(numbers, reverse=True)\n",
    "print(sorted_numbers)"
   ]
  },
  {
   "cell_type": "code",
   "execution_count": 29,
   "metadata": {},
   "outputs": [
    {
     "name": "stdout",
     "output_type": "stream",
     "text": [
      "[('Bob', 85), ('Alice', 90), ('Charlie', 92)]\n"
     ]
    }
   ],
   "source": [
    "students = [(\"Alice\", 90), (\"Bob\", 85), (\"Charlie\", 92)]\n",
    "\n",
    "# Sorting by scores (index 1 in tuple)\n",
    "students_sorted = sorted(students, key=lambda student: student[1])\n",
    "print(students_sorted)"
   ]
  },
  {
   "cell_type": "markdown",
   "metadata": {},
   "source": [
    "#### 11. Lambda functions"
   ]
  },
  {
   "cell_type": "markdown",
   "metadata": {},
   "source": [
    "Lambda functions are anonymous functions defined using the lambda keyword. They are commonly used for short, single-expression functions.\n",
    "\n",
    "Benefits of using lambda functions:\n",
    "\n",
    "- concise syntax;\n",
    "- useful with functions like map(), filter(), and sorted();\n",
    "- eliminates the need for defining full functions;\n",
    "- lambdas make code more readable and efficient for simple tasks"
   ]
  },
  {
   "cell_type": "code",
   "execution_count": 30,
   "metadata": {},
   "outputs": [
    {
     "name": "stdout",
     "output_type": "stream",
     "text": [
      "25\n",
      "10\n",
      "20\n"
     ]
    }
   ],
   "source": [
    "# Lambda function for squaring a number\n",
    "square = lambda x: x ** 2\n",
    "print(square(5))  \n",
    "\n",
    "# Lambda function for adding two numbers\n",
    "add = lambda a, b: a + b\n",
    "print(add(3, 7))  \n",
    "\n",
    "# Lambda function for finding the maximum of two numbers\n",
    "maximum = lambda x, y: x if x > y else y\n",
    "print(maximum(10, 20))  "
   ]
  },
  {
   "cell_type": "code",
   "execution_count": 31,
   "metadata": {},
   "outputs": [
    {
     "name": "stdout",
     "output_type": "stream",
     "text": [
      "[2, 4, 6, 8, 10]\n",
      "[32.0, 50.0, 68.0, 86.0, 104.0]\n",
      "[5, 6, 6]\n"
     ]
    }
   ],
   "source": [
    "numbers = [1, 2, 3, 4, 5]\n",
    "\n",
    "# Using lambda with map() to double each number\n",
    "doubled = list(map(lambda x: x * 2, numbers))\n",
    "print(doubled) \n",
    "\n",
    "# Using lambda with map() to convert temperatures from Celsius to Fahrenheit\n",
    "celsius = [0, 10, 20, 30, 40]\n",
    "fahrenheit = list(map(lambda c: (c * 9/5) + 32, celsius))\n",
    "print(fahrenheit) \n",
    "\n",
    "# Using lambda with map() to extract the length of each word\n",
    "words = [\"apple\", \"banana\", \"cherry\"]\n",
    "lengths = list(map(lambda word: len(word), words))\n",
    "print(lengths) "
   ]
  },
  {
   "cell_type": "code",
   "execution_count": 32,
   "metadata": {},
   "outputs": [
    {
     "name": "stdout",
     "output_type": "stream",
     "text": [
      "[10, 30, 50]\n",
      "['banana', 'cherry']\n",
      "[0, 1, 2, 3]\n"
     ]
    }
   ],
   "source": [
    "\n",
    "numbers = [10, 25, 30, 45, 50]\n",
    "\n",
    "# Using lambda with filter() to keep only even numbers\n",
    "evens = list(filter(lambda x: x % 2 == 0, numbers))\n",
    "print(evens) \n",
    "\n",
    "# Using lambda with filter() to extract words with more than 5 letters\n",
    "words = [\"apple\", \"banana\", \"cherry\", \"kiwi\", \"mango\"]\n",
    "long_words = list(filter(lambda word: len(word) > 5, words))\n",
    "print(long_words)\n",
    "\n",
    "# Using lambda with filter() to remove negative numbers from a list\n",
    "nums = [-3, -2, -1, 0, 1, 2, 3]\n",
    "positive_nums = list(filter(lambda n: n >= 0, nums))\n",
    "print(positive_nums) "
   ]
  },
  {
   "cell_type": "markdown",
   "metadata": {},
   "source": [
    "## Numpy concepts"
   ]
  },
  {
   "cell_type": "markdown",
   "metadata": {},
   "source": [
    "NumPy (Numerical Python) is a powerful library for numerical computing. It provides multi-dimensional arrays (ndarray) and fast mathematical operations optimized for performance."
   ]
  },
  {
   "cell_type": "markdown",
   "metadata": {},
   "source": [
    "#### 1. Creating NumPy arrays"
   ]
  },
  {
   "cell_type": "markdown",
   "metadata": {},
   "source": [
    "NumPy arrays (ndarray) are the core structure of NumPy. They are faster and more memory-efficient than Python lists.\n",
    "\n",
    "Why is this important?\n",
    "\n",
    "- arrays allow efficient storage and manipulation of large datasets;\n",
    "- numpy arrays support vectorized operations, making computations much faster than regular Python lists"
   ]
  },
  {
   "cell_type": "code",
   "execution_count": 33,
   "metadata": {},
   "outputs": [
    {
     "name": "stdout",
     "output_type": "stream",
     "text": [
      "[1 2 3 4 5]\n"
     ]
    }
   ],
   "source": [
    "import numpy as np\n",
    "\n",
    "# Example 1: creating a 1D array\n",
    "arr1 = np.array([1, 2, 3, 4, 5])\n",
    "print(arr1)\n"
   ]
  },
  {
   "cell_type": "code",
   "execution_count": 34,
   "metadata": {},
   "outputs": [
    {
     "name": "stdout",
     "output_type": "stream",
     "text": [
      "[[1 2 3]\n",
      " [4 5 6]]\n"
     ]
    }
   ],
   "source": [
    "# Example 2: creating a 2D array (Matrix)\n",
    "arr2 = np.array([[1, 2, 3], [4, 5, 6]])\n",
    "print(arr2)"
   ]
  },
  {
   "cell_type": "code",
   "execution_count": 35,
   "metadata": {},
   "outputs": [
    {
     "name": "stdout",
     "output_type": "stream",
     "text": [
      "[[0. 0. 0.]\n",
      " [0. 0. 0.]\n",
      " [0. 0. 0.]]\n"
     ]
    }
   ],
   "source": [
    "# Example 3: creating an array of zeros\n",
    "zeros_arr = np.zeros((3, 3))  # 3x3 matrix of zeros\n",
    "print(zeros_arr)"
   ]
  },
  {
   "cell_type": "markdown",
   "metadata": {},
   "source": [
    "#### 2. NumPy Array Attributes"
   ]
  },
  {
   "cell_type": "markdown",
   "metadata": {},
   "source": [
    "NumPy provides attributes to check an array's shape, dimensions, data type, and size."
   ]
  },
  {
   "cell_type": "code",
   "execution_count": 36,
   "metadata": {},
   "outputs": [
    {
     "name": "stdout",
     "output_type": "stream",
     "text": [
      "(2, 3)\n",
      "2\n"
     ]
    }
   ],
   "source": [
    "# Example 1: checking array properties\n",
    "arr = np.array([[1, 2, 3], [4, 5, 6]])\n",
    "print(arr.shape)  # (2, 3) → 2 rows, 3 columns\n",
    "print(arr.ndim)   # 2 → 2D array"
   ]
  },
  {
   "cell_type": "code",
   "execution_count": 37,
   "metadata": {},
   "outputs": [
    {
     "name": "stdout",
     "output_type": "stream",
     "text": [
      "int32\n",
      "6\n"
     ]
    }
   ],
   "source": [
    "# Example 2: checking data type and size\n",
    "print(arr.dtype)  # data type of elements\n",
    "print(arr.size)   # total number of elements"
   ]
  },
  {
   "cell_type": "code",
   "execution_count": 38,
   "metadata": {},
   "outputs": [
    {
     "name": "stdout",
     "output_type": "stream",
     "text": [
      "[[1 2]\n",
      " [3 4]\n",
      " [5 6]]\n"
     ]
    }
   ],
   "source": [
    "# Example 3: reshaping an array\n",
    "reshaped = arr.reshape(3, 2)  # change shape to 3 rows, 2 columns\n",
    "print(reshaped)"
   ]
  },
  {
   "cell_type": "markdown",
   "metadata": {},
   "source": [
    "#### 3. Indexing and slicing in numpy"
   ]
  },
  {
   "cell_type": "markdown",
   "metadata": {},
   "source": [
    "numpy allows powerful indexing and slicing to access specific elements."
   ]
  },
  {
   "cell_type": "code",
   "execution_count": 39,
   "metadata": {},
   "outputs": [
    {
     "name": "stdout",
     "output_type": "stream",
     "text": [
      "30\n"
     ]
    }
   ],
   "source": [
    "# Example 1: accessing elements\n",
    "arr = np.array([10, 20, 30, 40, 50])\n",
    "print(arr[2])"
   ]
  },
  {
   "cell_type": "code",
   "execution_count": 40,
   "metadata": {},
   "outputs": [
    {
     "name": "stdout",
     "output_type": "stream",
     "text": [
      "[20 30 40]\n"
     ]
    }
   ],
   "source": [
    "# Example 2: slicing a subarray\n",
    "print(arr[1:4])  "
   ]
  },
  {
   "cell_type": "code",
   "execution_count": 41,
   "metadata": {},
   "outputs": [
    {
     "name": "stdout",
     "output_type": "stream",
     "text": [
      "[2 5]\n"
     ]
    }
   ],
   "source": [
    "# Example 3: selecting a column in a 2D array\n",
    "arr2d = np.array([[1, 2, 3], [4, 5, 6]])\n",
    "print(arr2d[:, 1])"
   ]
  },
  {
   "cell_type": "markdown",
   "metadata": {},
   "source": [
    "#### 4. Arithmetic operations with numpy"
   ]
  },
  {
   "cell_type": "code",
   "execution_count": 42,
   "metadata": {},
   "outputs": [
    {
     "name": "stdout",
     "output_type": "stream",
     "text": [
      "[2 4 6 8]\n"
     ]
    }
   ],
   "source": [
    "# Example 1: basic element-wise operations\n",
    "arr = np.array([1, 2, 3, 4])\n",
    "print(arr * 2) "
   ]
  },
  {
   "cell_type": "code",
   "execution_count": 43,
   "metadata": {},
   "outputs": [
    {
     "name": "stdout",
     "output_type": "stream",
     "text": [
      "[11 22 33 44]\n"
     ]
    }
   ],
   "source": [
    "# Example 2: adding two arrays\n",
    "arr2 = np.array([10, 20, 30, 40])\n",
    "print(arr + arr2)"
   ]
  },
  {
   "cell_type": "code",
   "execution_count": 44,
   "metadata": {},
   "outputs": [
    {
     "name": "stdout",
     "output_type": "stream",
     "text": [
      "[1.         1.41421356 1.73205081 2.        ]\n"
     ]
    }
   ],
   "source": [
    "# Example 3: applying mathematical functions\n",
    "print(np.sqrt(arr))"
   ]
  },
  {
   "cell_type": "markdown",
   "metadata": {},
   "source": [
    "#### 5. Broadcasting in NumPy"
   ]
  },
  {
   "cell_type": "markdown",
   "metadata": {},
   "source": [
    "Broadcasting allows operations between arrays of different shapes without explicit looping.\n",
    "\n",
    "Benfits of broadcasting\n",
    "\n",
    "- allows operations between arrays of different sizes;\n",
    "- makes vectorized computations possible."
   ]
  },
  {
   "cell_type": "code",
   "execution_count": 45,
   "metadata": {},
   "outputs": [
    {
     "name": "stdout",
     "output_type": "stream",
     "text": [
      "[6 7 8]\n"
     ]
    }
   ],
   "source": [
    "# Example 1: adding a scalar to an array\n",
    "arr = np.array([1, 2, 3])\n",
    "print(arr + 5) "
   ]
  },
  {
   "cell_type": "code",
   "execution_count": 46,
   "metadata": {},
   "outputs": [
    {
     "name": "stdout",
     "output_type": "stream",
     "text": [
      "[[2 3 4]\n",
      " [3 4 5]\n",
      " [4 5 6]]\n"
     ]
    }
   ],
   "source": [
    "# Example 2: broadcasting across different shapes\n",
    "arr2 = np.array([[1], [2], [3]])  # 3x1 matrix\n",
    "print(arr2 + arr) "
   ]
  },
  {
   "cell_type": "code",
   "execution_count": 47,
   "metadata": {},
   "outputs": [
    {
     "name": "stdout",
     "output_type": "stream",
     "text": [
      "[[ 2  6]\n",
      " [ 6 12]]\n"
     ]
    }
   ],
   "source": [
    "# Example 3: broadcasting in multiplication\n",
    "matrix = np.array([[1, 2], [3, 4]])\n",
    "print(matrix * np.array([2, 3]))"
   ]
  },
  {
   "cell_type": "markdown",
   "metadata": {},
   "source": [
    "#### 6. NumPy aggregations (sum, mean, max, min)"
   ]
  },
  {
   "cell_type": "code",
   "execution_count": 48,
   "metadata": {},
   "outputs": [
    {
     "name": "stdout",
     "output_type": "stream",
     "text": [
      "60\n",
      "20.0\n"
     ]
    }
   ],
   "source": [
    "# Example 1: sum and mean\n",
    "arr = np.array([10, 20, 30])\n",
    "print(np.sum(arr))  \n",
    "print(np.mean(arr))"
   ]
  },
  {
   "cell_type": "code",
   "execution_count": 49,
   "metadata": {},
   "outputs": [
    {
     "name": "stdout",
     "output_type": "stream",
     "text": [
      "10\n",
      "30\n"
     ]
    }
   ],
   "source": [
    "# Example 2: finding min and max\n",
    "print(np.min(arr))  \n",
    "print(np.max(arr))  "
   ]
  },
  {
   "cell_type": "code",
   "execution_count": 50,
   "metadata": {},
   "outputs": [
    {
     "name": "stdout",
     "output_type": "stream",
     "text": [
      "[4 6]\n",
      "[3 7]\n"
     ]
    }
   ],
   "source": [
    "# Example 3: aggregation along axes\n",
    "matrix = np.array([[1, 2], [3, 4]])\n",
    "print(np.sum(matrix, axis=0)) \n",
    "print(np.sum(matrix, axis=1))"
   ]
  },
  {
   "cell_type": "markdown",
   "metadata": {},
   "source": [
    "#### 7. Generating random numbers"
   ]
  },
  {
   "cell_type": "markdown",
   "metadata": {},
   "source": [
    "NumPy provides a random module for generating numbers for simulations, testing, and analysis.\n",
    "\n",
    "Importance of generating random values:\n",
    "\n",
    "- used for machine learning, statistics, and simulations;\n",
    "- helps in data augmentation and random sampling"
   ]
  },
  {
   "cell_type": "code",
   "execution_count": 51,
   "metadata": {},
   "outputs": [
    {
     "name": "stdout",
     "output_type": "stream",
     "text": [
      "20\n",
      "[[0.84781378 0.68439774 0.06761963]\n",
      " [0.0353445  0.55054567 0.07474346]\n",
      " [0.97183728 0.48582856 0.11764496]]\n",
      "[50 30 30]\n"
     ]
    }
   ],
   "source": [
    "# Example 1: generate a random integer\n",
    "print(np.random.randint(1, 100))\n",
    "\n",
    "# Example 2: generate an array of random floats\n",
    "print(np.random.rand(3, 3)) \n",
    "\n",
    "# Example 3: choosing a random sample\n",
    "arr = np.array([10, 20, 30, 40, 50])\n",
    "print(np.random.choice(arr, 3)) "
   ]
  },
  {
   "cell_type": "markdown",
   "metadata": {},
   "source": [
    "#### 8. Reshaping and transposing arrays"
   ]
  },
  {
   "cell_type": "markdown",
   "metadata": {},
   "source": [
    "Reshaping changes an array’s shape, while transposing flips axes. Is essential for matrix operations and machine learning models. It is used in image processing and scientific computing."
   ]
  },
  {
   "cell_type": "code",
   "execution_count": 52,
   "metadata": {},
   "outputs": [
    {
     "name": "stdout",
     "output_type": "stream",
     "text": [
      "[[1 2 3]\n",
      " [4 5 6]]\n",
      "[[1 3]\n",
      " [2 4]]\n",
      "[1 2 3 4]\n"
     ]
    }
   ],
   "source": [
    "# Example 1: reshape a 1D array into 2D\n",
    "arr = np.array([1, 2, 3, 4, 5, 6])\n",
    "print(arr.reshape(2, 3))\n",
    "\n",
    "# Example 2: transpose a matrix\n",
    "matrix = np.array([[1, 2], [3, 4]])\n",
    "print(matrix.T)\n",
    "\n",
    "# Example 3: flatten an array\n",
    "print(matrix.flatten())  # Convert to 1D array"
   ]
  },
  {
   "cell_type": "markdown",
   "metadata": {},
   "source": [
    "#### 9. Stacking and concatenating arrays"
   ]
  },
  {
   "cell_type": "markdown",
   "metadata": {},
   "source": [
    "NumPy provides functions to combine arrays vertically and horizontally. Mostly used for data merging in scientific computing, being essential for concatenating different datasets"
   ]
  },
  {
   "cell_type": "code",
   "execution_count": 53,
   "metadata": {},
   "outputs": [
    {
     "name": "stdout",
     "output_type": "stream",
     "text": [
      "[[1 2 3]\n",
      " [4 5 6]]\n",
      "[1 2 3 4 5 6]\n",
      "[[1 2 5 6]\n",
      " [3 4 7 8]]\n"
     ]
    }
   ],
   "source": [
    "# Example 1: vertical stacking\n",
    "arr1 = np.array([1, 2, 3])\n",
    "arr2 = np.array([4, 5, 6])\n",
    "print(np.vstack([arr1, arr2]))\n",
    "\n",
    "# Example 2: horizontal stacking\n",
    "print(np.hstack([arr1, arr2]))\n",
    "\n",
    "# Example 3: concatenating along a specific axis\n",
    "matrix1 = np.array([[1, 2], [3, 4]])\n",
    "matrix2 = np.array([[5, 6], [7, 8]])\n",
    "print(np.concatenate([matrix1, matrix2], axis=1))"
   ]
  },
  {
   "cell_type": "markdown",
   "metadata": {},
   "source": [
    "## Pandas concepts"
   ]
  },
  {
   "cell_type": "markdown",
   "metadata": {},
   "source": [
    "Pandas is a powerful data manipulation library that provides DataFrame and Series structures to handle structured data efficiently. It is widely used in data analysis, machine learning, and finance."
   ]
  },
  {
   "cell_type": "markdown",
   "metadata": {},
   "source": [
    "#### 1. Creating a Pandas DataFrame"
   ]
  },
  {
   "cell_type": "markdown",
   "metadata": {},
   "source": [
    "A DataFrame is the core data structure in Pandas. It is a table-like structure with rows and columns (similar to an Excel sheet or SQL table). You can create a DataFrame from different sources, such as:\n",
    "\n",
    "- lists and dictionaries;\n",
    "- CSV and Excel files;\n",
    "- databases like SQL"
   ]
  },
  {
   "cell_type": "code",
   "execution_count": 54,
   "metadata": {},
   "outputs": [
    {
     "name": "stdout",
     "output_type": "stream",
     "text": [
      "      Name  Age\n",
      "0    Alice   25\n",
      "1      Bob   30\n",
      "2  Charlie   35\n"
     ]
    }
   ],
   "source": [
    "import pandas as pd\n",
    "\n",
    "# Example 1: creating a DataFrame from a dictionary\n",
    "data = {'Name': ['Alice', 'Bob', 'Charlie'], 'Age': [25, 30, 35]}\n",
    "df = pd.DataFrame(data)\n",
    "print(df)"
   ]
  },
  {
   "cell_type": "code",
   "execution_count": 55,
   "metadata": {},
   "outputs": [
    {
     "name": "stdout",
     "output_type": "stream",
     "text": [
      "      Name  Age\n",
      "0    Alice   25\n",
      "1      Bob   30\n",
      "2  Charlie   35\n"
     ]
    }
   ],
   "source": [
    "# Example 2: creating a DataFrame from a list of lists\n",
    "data = [['Alice', 25], ['Bob', 30], ['Charlie', 35]]\n",
    "df = pd.DataFrame(data, columns=['Name', 'Age'])\n",
    "print(df)"
   ]
  },
  {
   "cell_type": "code",
   "execution_count": 56,
   "metadata": {},
   "outputs": [
    {
     "name": "stdout",
     "output_type": "stream",
     "text": [
      "          A         B         C\n",
      "0  1.274733  0.129708  0.988325\n",
      "1 -0.297006 -1.009994  1.139460\n",
      "2 -0.826497 -1.674115 -0.221835\n",
      "3  0.272198  0.507338  0.368615\n",
      "4 -0.833765 -2.388524 -1.605892\n"
     ]
    }
   ],
   "source": [
    "# Example 3: creating a DataFrame with random values\n",
    "df = pd.DataFrame(np.random.randn(5, 3), columns=['A', 'B', 'C'])\n",
    "print(df)"
   ]
  },
  {
   "cell_type": "markdown",
   "metadata": {},
   "source": [
    "#### 2. Reading and writing data"
   ]
  },
  {
   "cell_type": "markdown",
   "metadata": {},
   "source": [
    "Pandas provides functions to import and export data from CSV, Excel, JSON, and SQL files."
   ]
  },
  {
   "cell_type": "code",
   "execution_count": 57,
   "metadata": {},
   "outputs": [
    {
     "name": "stdout",
     "output_type": "stream",
     "text": [
      "   Duration          Date  Pulse  Maxpulse  Calories\n",
      "0        60  '2020/12/01'    110       130     409.1\n",
      "1        60  '2020/12/02'    117       145     479.0\n",
      "2        60  '2020/12/03'    103       135     340.0\n",
      "3        45  '2020/12/04'    109       175     282.4\n",
      "4        45  '2020/12/05'    117       148     406.0\n"
     ]
    }
   ],
   "source": [
    "# Example 1: reading a CSV file\n",
    "df = pd.read_csv('data/data.csv')\n",
    "print(df.head())"
   ]
  },
  {
   "cell_type": "code",
   "execution_count": 58,
   "metadata": {},
   "outputs": [],
   "source": [
    "# Example 2: writing a DataFrame to an excel file\n",
    "df.to_excel('data/output.xlsx', index=False)"
   ]
  },
  {
   "cell_type": "markdown",
   "metadata": {},
   "source": [
    "#### 3. Exploring data (head, tail, info, describe)"
   ]
  },
  {
   "cell_type": "markdown",
   "metadata": {},
   "source": [
    "Before working with a dataset, it’s important to understand its structure, types, and summary statistics."
   ]
  },
  {
   "cell_type": "code",
   "execution_count": 59,
   "metadata": {},
   "outputs": [
    {
     "name": "stdout",
     "output_type": "stream",
     "text": [
      "   Duration          Date  Pulse  Maxpulse  Calories\n",
      "0        60  '2020/12/01'    110       130     409.1\n",
      "1        60  '2020/12/02'    117       145     479.0\n",
      "2        60  '2020/12/03'    103       135     340.0\n",
      "3        45  '2020/12/04'    109       175     282.4\n",
      "4        45  '2020/12/05'    117       148     406.0\n"
     ]
    }
   ],
   "source": [
    "# Example 1: view the first 5 rows\n",
    "print(df.head())"
   ]
  },
  {
   "cell_type": "code",
   "execution_count": 60,
   "metadata": {},
   "outputs": [
    {
     "name": "stdout",
     "output_type": "stream",
     "text": [
      "         Duration       Pulse    Maxpulse    Calories\n",
      "count   32.000000   32.000000   32.000000   30.000000\n",
      "mean    68.437500  103.500000  128.500000  304.680000\n",
      "std     70.039591    7.832933   12.998759   66.003779\n",
      "min     30.000000   90.000000  101.000000  195.100000\n",
      "25%     60.000000  100.000000  120.000000  250.700000\n",
      "50%     60.000000  102.500000  127.500000  291.200000\n",
      "75%     60.000000  106.500000  132.250000  343.975000\n",
      "max    450.000000  130.000000  175.000000  479.000000\n"
     ]
    }
   ],
   "source": [
    "# Example 2: get summary statistics\n",
    "print(df.describe())"
   ]
  },
  {
   "cell_type": "code",
   "execution_count": 61,
   "metadata": {},
   "outputs": [
    {
     "name": "stdout",
     "output_type": "stream",
     "text": [
      "<class 'pandas.core.frame.DataFrame'>\n",
      "RangeIndex: 32 entries, 0 to 31\n",
      "Data columns (total 5 columns):\n",
      " #   Column    Non-Null Count  Dtype  \n",
      "---  ------    --------------  -----  \n",
      " 0   Duration  32 non-null     int64  \n",
      " 1   Date      31 non-null     object \n",
      " 2   Pulse     32 non-null     int64  \n",
      " 3   Maxpulse  32 non-null     int64  \n",
      " 4   Calories  30 non-null     float64\n",
      "dtypes: float64(1), int64(3), object(1)\n",
      "memory usage: 1.4+ KB\n",
      "None\n"
     ]
    }
   ],
   "source": [
    "# Example 3: check data types and missing values\n",
    "print(df.info())"
   ]
  },
  {
   "cell_type": "markdown",
   "metadata": {},
   "source": [
    "#### 4. Selecting and filtering data"
   ]
  },
  {
   "cell_type": "markdown",
   "metadata": {},
   "source": [
    "Pandas allows selecting specific rows and columns using:\n",
    "\n",
    "- direct column access (df['column'])\n",
    "- boolean conditions (df[df['column'] > value])\n",
    "- index-based selection (df.iloc[])"
   ]
  },
  {
   "cell_type": "code",
   "execution_count": 62,
   "metadata": {},
   "outputs": [
    {
     "name": "stdout",
     "output_type": "stream",
     "text": [
      "0     110\n",
      "1     117\n",
      "2     103\n",
      "3     109\n",
      "4     117\n",
      "5     102\n",
      "6     110\n",
      "7     104\n",
      "8     109\n",
      "9      98\n",
      "10    103\n",
      "11    100\n",
      "12    100\n",
      "13    106\n",
      "14    104\n",
      "15     98\n",
      "16     98\n",
      "17    100\n",
      "18     90\n",
      "19    103\n",
      "20     97\n",
      "21    108\n",
      "22    100\n",
      "23    130\n",
      "24    105\n",
      "25    102\n",
      "26    100\n",
      "27     92\n",
      "28    103\n",
      "29    100\n",
      "30    102\n",
      "31     92\n",
      "Name: Pulse, dtype: int64\n"
     ]
    }
   ],
   "source": [
    "# Example 1: Selecting a single column\n",
    "print(df['Pulse'])"
   ]
  },
  {
   "cell_type": "code",
   "execution_count": 63,
   "metadata": {},
   "outputs": [
    {
     "name": "stdout",
     "output_type": "stream",
     "text": [
      "    Duration          Date  Pulse  Maxpulse  Calories\n",
      "0         60  '2020/12/01'    110       130     409.1\n",
      "1         60  '2020/12/02'    117       145     479.0\n",
      "2         60  '2020/12/03'    103       135     340.0\n",
      "4         45  '2020/12/05'    117       148     406.0\n",
      "6         60  '2020/12/07'    110       136     374.0\n",
      "10        60  '2020/12/11'    103       147     329.3\n",
      "13        60  '2020/12/13'    106       128     345.3\n",
      "14        60  '2020/12/14'    104       132     379.3\n",
      "19        60  '2020/12/19'    103       123     323.0\n",
      "21        60  '2020/12/21'    108       131     364.2\n",
      "25        60  '2020/12/25'    102       126     334.5\n",
      "30        60  '2020/12/30'    102       129     380.3\n"
     ]
    }
   ],
   "source": [
    "# Example 2: filtering rows based on a condition\n",
    "calories = df[df['Calories'] > 300]\n",
    "print(calories)"
   ]
  },
  {
   "cell_type": "code",
   "execution_count": 64,
   "metadata": {},
   "outputs": [
    {
     "name": "stdout",
     "output_type": "stream",
     "text": [
      "   Maxpulse  Calories\n",
      "0       130     409.1\n",
      "1       145     479.0\n"
     ]
    }
   ],
   "source": [
    "# Example 3: selecting specific rows and columns using iloc\n",
    "print(df.iloc[0:2, [3, 4]])  # selects first 2 rows, first 2 columns"
   ]
  },
  {
   "cell_type": "markdown",
   "metadata": {},
   "source": [
    "#### 5. Handling missing values"
   ]
  },
  {
   "cell_type": "markdown",
   "metadata": {},
   "source": [
    "Real-world datasets often contain missing data. Pandas provides methods to:\n",
    "\n",
    "- identify missing values (df.isnull())\n",
    "- fill missing values (df.fillna())\n",
    "- remove missing values (df.dropna())"
   ]
  },
  {
   "cell_type": "code",
   "execution_count": 65,
   "metadata": {},
   "outputs": [
    {
     "name": "stdout",
     "output_type": "stream",
     "text": [
      "Duration    0\n",
      "Date        1\n",
      "Pulse       0\n",
      "Maxpulse    0\n",
      "Calories    2\n",
      "dtype: int64\n"
     ]
    }
   ],
   "source": [
    "# Example 1: check for missing values\n",
    "print(df.isnull().sum())"
   ]
  },
  {
   "cell_type": "code",
   "execution_count": 66,
   "metadata": {},
   "outputs": [],
   "source": [
    "# Example 2: fill missing values with the column mean\n",
    "df['Calories'].fillna(df['Calories'].mean(), inplace=True)"
   ]
  },
  {
   "cell_type": "code",
   "execution_count": 67,
   "metadata": {},
   "outputs": [
    {
     "name": "stdout",
     "output_type": "stream",
     "text": [
      "    Duration          Date  Pulse  Maxpulse  Calories\n",
      "0         60  '2020/12/01'    110       130    409.10\n",
      "1         60  '2020/12/02'    117       145    479.00\n",
      "2         60  '2020/12/03'    103       135    340.00\n",
      "3         45  '2020/12/04'    109       175    282.40\n",
      "4         45  '2020/12/05'    117       148    406.00\n",
      "5         60  '2020/12/06'    102       127    300.00\n",
      "6         60  '2020/12/07'    110       136    374.00\n",
      "7        450  '2020/12/08'    104       134    253.30\n",
      "8         30  '2020/12/09'    109       133    195.10\n",
      "9         60  '2020/12/10'     98       124    269.00\n",
      "10        60  '2020/12/11'    103       147    329.30\n",
      "11        60  '2020/12/12'    100       120    250.70\n",
      "12        60  '2020/12/12'    100       120    250.70\n",
      "13        60  '2020/12/13'    106       128    345.30\n",
      "14        60  '2020/12/14'    104       132    379.30\n",
      "15        60  '2020/12/15'     98       123    275.00\n",
      "16        60  '2020/12/16'     98       120    215.20\n",
      "17        60  '2020/12/17'    100       120    300.00\n",
      "18        45  '2020/12/18'     90       112    304.68\n",
      "19        60  '2020/12/19'    103       123    323.00\n",
      "20        45  '2020/12/20'     97       125    243.00\n",
      "21        60  '2020/12/21'    108       131    364.20\n",
      "23        60  '2020/12/23'    130       101    300.00\n",
      "24        45  '2020/12/24'    105       132    246.00\n",
      "25        60  '2020/12/25'    102       126    334.50\n",
      "26        60      20201226    100       120    250.00\n",
      "27        60  '2020/12/27'     92       118    241.00\n",
      "28        60  '2020/12/28'    103       132    304.68\n",
      "29        60  '2020/12/29'    100       132    280.00\n",
      "30        60  '2020/12/30'    102       129    380.30\n",
      "31        60  '2020/12/31'     92       115    243.00\n"
     ]
    }
   ],
   "source": [
    "# Example 3: drop rows with missing values\n",
    "df_cleaned = df.dropna()\n",
    "print(df_cleaned)"
   ]
  },
  {
   "cell_type": "markdown",
   "metadata": {},
   "source": [
    "#### 6. Sorting and ranking data"
   ]
  },
  {
   "cell_type": "markdown",
   "metadata": {},
   "source": [
    "Sorting allows arranging data in ascending or descending order, and ranking assigns numerical ranks."
   ]
  },
  {
   "cell_type": "code",
   "execution_count": 68,
   "metadata": {},
   "outputs": [
    {
     "name": "stdout",
     "output_type": "stream",
     "text": [
      "    Duration          Date  Pulse  Maxpulse  Calories\n",
      "23        60  '2020/12/23'    130       101    300.00\n",
      "18        45  '2020/12/18'     90       112    304.68\n",
      "31        60  '2020/12/31'     92       115    243.00\n",
      "27        60  '2020/12/27'     92       118    241.00\n",
      "22        45           NaN    100       119    282.00\n",
      "26        60      20201226    100       120    250.00\n",
      "17        60  '2020/12/17'    100       120    300.00\n",
      "16        60  '2020/12/16'     98       120    215.20\n",
      "12        60  '2020/12/12'    100       120    250.70\n",
      "11        60  '2020/12/12'    100       120    250.70\n",
      "19        60  '2020/12/19'    103       123    323.00\n",
      "15        60  '2020/12/15'     98       123    275.00\n",
      "9         60  '2020/12/10'     98       124    269.00\n",
      "20        45  '2020/12/20'     97       125    243.00\n",
      "25        60  '2020/12/25'    102       126    334.50\n",
      "5         60  '2020/12/06'    102       127    300.00\n",
      "13        60  '2020/12/13'    106       128    345.30\n",
      "30        60  '2020/12/30'    102       129    380.30\n",
      "0         60  '2020/12/01'    110       130    409.10\n",
      "21        60  '2020/12/21'    108       131    364.20\n",
      "24        45  '2020/12/24'    105       132    246.00\n",
      "14        60  '2020/12/14'    104       132    379.30\n",
      "28        60  '2020/12/28'    103       132    304.68\n",
      "29        60  '2020/12/29'    100       132    280.00\n",
      "8         30  '2020/12/09'    109       133    195.10\n",
      "7        450  '2020/12/08'    104       134    253.30\n",
      "2         60  '2020/12/03'    103       135    340.00\n",
      "6         60  '2020/12/07'    110       136    374.00\n",
      "1         60  '2020/12/02'    117       145    479.00\n",
      "10        60  '2020/12/11'    103       147    329.30\n",
      "4         45  '2020/12/05'    117       148    406.00\n",
      "3         45  '2020/12/04'    109       175    282.40\n"
     ]
    }
   ],
   "source": [
    "# Example 1: sort by age (ascending)\n",
    "df_sorted = df.sort_values('Maxpulse')\n",
    "print(df_sorted)"
   ]
  },
  {
   "cell_type": "code",
   "execution_count": 69,
   "metadata": {},
   "outputs": [
    {
     "name": "stdout",
     "output_type": "stream",
     "text": [
      "    Duration          Date  Pulse  Maxpulse  Calories\n",
      "18        45  '2020/12/18'     90       112    304.68\n",
      "27        60  '2020/12/27'     92       118    241.00\n",
      "31        60  '2020/12/31'     92       115    243.00\n",
      "20        45  '2020/12/20'     97       125    243.00\n",
      "9         60  '2020/12/10'     98       124    269.00\n",
      "15        60  '2020/12/15'     98       123    275.00\n",
      "16        60  '2020/12/16'     98       120    215.20\n",
      "11        60  '2020/12/12'    100       120    250.70\n",
      "12        60  '2020/12/12'    100       120    250.70\n",
      "17        60  '2020/12/17'    100       120    300.00\n",
      "26        60      20201226    100       120    250.00\n",
      "29        60  '2020/12/29'    100       132    280.00\n",
      "22        45           NaN    100       119    282.00\n",
      "5         60  '2020/12/06'    102       127    300.00\n",
      "25        60  '2020/12/25'    102       126    334.50\n",
      "30        60  '2020/12/30'    102       129    380.30\n",
      "2         60  '2020/12/03'    103       135    340.00\n",
      "10        60  '2020/12/11'    103       147    329.30\n",
      "19        60  '2020/12/19'    103       123    323.00\n",
      "28        60  '2020/12/28'    103       132    304.68\n",
      "7        450  '2020/12/08'    104       134    253.30\n",
      "14        60  '2020/12/14'    104       132    379.30\n",
      "24        45  '2020/12/24'    105       132    246.00\n",
      "13        60  '2020/12/13'    106       128    345.30\n",
      "21        60  '2020/12/21'    108       131    364.20\n",
      "3         45  '2020/12/04'    109       175    282.40\n",
      "8         30  '2020/12/09'    109       133    195.10\n",
      "0         60  '2020/12/01'    110       130    409.10\n",
      "6         60  '2020/12/07'    110       136    374.00\n",
      "1         60  '2020/12/02'    117       145    479.00\n",
      "4         45  '2020/12/05'    117       148    406.00\n",
      "23        60  '2020/12/23'    130       101    300.00\n"
     ]
    }
   ],
   "source": [
    "# Example 2: sort by multiple columns\n",
    "df_sorted = df.sort_values(['Pulse', 'Duration'], ascending=[True, False])\n",
    "print(df_sorted)"
   ]
  },
  {
   "cell_type": "code",
   "execution_count": 70,
   "metadata": {},
   "outputs": [
    {
     "name": "stdout",
     "output_type": "stream",
     "text": [
      "    Duration          Date  Pulse  Maxpulse  Calories  Rank\n",
      "0         60  '2020/12/01'    110       130    409.10   4.5\n",
      "1         60  '2020/12/02'    117       145    479.00   2.5\n",
      "2         60  '2020/12/03'    103       135    340.00  14.5\n",
      "3         45  '2020/12/04'    109       175    282.40   6.5\n",
      "4         45  '2020/12/05'    117       148    406.00   2.5\n",
      "5         60  '2020/12/06'    102       127    300.00  18.0\n",
      "6         60  '2020/12/07'    110       136    374.00   4.5\n",
      "7        450  '2020/12/08'    104       134    253.30  11.5\n",
      "8         30  '2020/12/09'    109       133    195.10   6.5\n",
      "9         60  '2020/12/10'     98       124    269.00  27.0\n",
      "10        60  '2020/12/11'    103       147    329.30  14.5\n",
      "11        60  '2020/12/12'    100       120    250.70  22.5\n",
      "12        60  '2020/12/12'    100       120    250.70  22.5\n",
      "13        60  '2020/12/13'    106       128    345.30   9.0\n",
      "14        60  '2020/12/14'    104       132    379.30  11.5\n",
      "15        60  '2020/12/15'     98       123    275.00  27.0\n",
      "16        60  '2020/12/16'     98       120    215.20  27.0\n",
      "17        60  '2020/12/17'    100       120    300.00  22.5\n",
      "18        45  '2020/12/18'     90       112    304.68  32.0\n",
      "19        60  '2020/12/19'    103       123    323.00  14.5\n",
      "20        45  '2020/12/20'     97       125    243.00  29.0\n",
      "21        60  '2020/12/21'    108       131    364.20   8.0\n",
      "22        45           NaN    100       119    282.00  22.5\n",
      "23        60  '2020/12/23'    130       101    300.00   1.0\n",
      "24        45  '2020/12/24'    105       132    246.00  10.0\n",
      "25        60  '2020/12/25'    102       126    334.50  18.0\n",
      "26        60      20201226    100       120    250.00  22.5\n",
      "27        60  '2020/12/27'     92       118    241.00  30.5\n",
      "28        60  '2020/12/28'    103       132    304.68  14.5\n",
      "29        60  '2020/12/29'    100       132    280.00  22.5\n",
      "30        60  '2020/12/30'    102       129    380.30  18.0\n",
      "31        60  '2020/12/31'     92       115    243.00  30.5\n"
     ]
    }
   ],
   "source": [
    "# Example 3: ranking values\n",
    "df['Rank'] = df['Pulse'].rank(ascending=False)\n",
    "print(df)"
   ]
  },
  {
   "cell_type": "markdown",
   "metadata": {},
   "source": [
    "#### 7. Grouping and aggregation"
   ]
  },
  {
   "cell_type": "markdown",
   "metadata": {},
   "source": [
    "Pandas allows grouping data by categories and applying aggregate functions (sum(), mean(), etc.)."
   ]
  },
  {
   "cell_type": "code",
   "execution_count": 71,
   "metadata": {},
   "outputs": [
    {
     "name": "stdout",
     "output_type": "stream",
     "text": [
      "Duration\n",
      "30     195.100000\n",
      "45     294.013333\n",
      "60     314.053333\n",
      "450    253.300000\n",
      "Name: Calories, dtype: float64\n"
     ]
    }
   ],
   "source": [
    "# Example 1: group by column and calculate mean\n",
    "print(df.groupby('Duration')['Calories'].mean())"
   ]
  },
  {
   "cell_type": "code",
   "execution_count": 72,
   "metadata": {},
   "outputs": [
    {
     "name": "stdout",
     "output_type": "stream",
     "text": [
      "Duration\n",
      "30      1\n",
      "45      6\n",
      "60     24\n",
      "450     1\n",
      "dtype: int64\n"
     ]
    }
   ],
   "source": [
    "# Example 2: count occurrences of each category\n",
    "print(df.groupby('Duration').size())"
   ]
  },
  {
   "cell_type": "code",
   "execution_count": 73,
   "metadata": {},
   "outputs": [
    {
     "name": "stdout",
     "output_type": "stream",
     "text": [
      "         Calories            \n",
      "              sum        mean\n",
      "Duration                     \n",
      "30         195.10  195.100000\n",
      "45        1764.08  294.013333\n",
      "60        7537.28  314.053333\n",
      "450        253.30  253.300000\n"
     ]
    }
   ],
   "source": [
    "# Example 3: aggregate multiple statistics\n",
    "print(df.groupby('Duration').agg({'Calories': ['sum', 'mean']}))"
   ]
  },
  {
   "cell_type": "markdown",
   "metadata": {},
   "source": [
    "#### 8. Merging and joining DataFrames"
   ]
  },
  {
   "cell_type": "code",
   "execution_count": 74,
   "metadata": {},
   "outputs": [],
   "source": [
    "df1 = pd.read_excel('data/data1.xlsx')\n",
    "df2 = pd.read_excel('data/data2.xlsx')\n",
    "df1['Date'] = pd.to_datetime(df1['Date'])\n",
    "df2['Date'] = pd.to_datetime(df2['Date'])\n"
   ]
  },
  {
   "cell_type": "code",
   "execution_count": 75,
   "metadata": {},
   "outputs": [
    {
     "data": {
      "text/html": [
       "<div>\n",
       "<style scoped>\n",
       "    .dataframe tbody tr th:only-of-type {\n",
       "        vertical-align: middle;\n",
       "    }\n",
       "\n",
       "    .dataframe tbody tr th {\n",
       "        vertical-align: top;\n",
       "    }\n",
       "\n",
       "    .dataframe thead th {\n",
       "        text-align: right;\n",
       "    }\n",
       "</style>\n",
       "<table border=\"1\" class=\"dataframe\">\n",
       "  <thead>\n",
       "    <tr style=\"text-align: right;\">\n",
       "      <th></th>\n",
       "      <th>Duration_x</th>\n",
       "      <th>Date</th>\n",
       "      <th>Pulse_x</th>\n",
       "      <th>Maxpulse_x</th>\n",
       "      <th>Calories_x</th>\n",
       "      <th>Duration_y</th>\n",
       "      <th>Pulse_y</th>\n",
       "      <th>Maxpulse_y</th>\n",
       "      <th>Calories_y</th>\n",
       "    </tr>\n",
       "  </thead>\n",
       "  <tbody>\n",
       "    <tr>\n",
       "      <th>0</th>\n",
       "      <td>60</td>\n",
       "      <td>2020-12-31</td>\n",
       "      <td>104</td>\n",
       "      <td>132</td>\n",
       "      <td>379.3</td>\n",
       "      <td>60</td>\n",
       "      <td>92</td>\n",
       "      <td>115</td>\n",
       "      <td>243.0</td>\n",
       "    </tr>\n",
       "    <tr>\n",
       "      <th>1</th>\n",
       "      <td>60</td>\n",
       "      <td>2020-12-28</td>\n",
       "      <td>98</td>\n",
       "      <td>123</td>\n",
       "      <td>275.0</td>\n",
       "      <td>60</td>\n",
       "      <td>103</td>\n",
       "      <td>132</td>\n",
       "      <td>NaN</td>\n",
       "    </tr>\n",
       "    <tr>\n",
       "      <th>2</th>\n",
       "      <td>60</td>\n",
       "      <td>2020-12-27</td>\n",
       "      <td>98</td>\n",
       "      <td>120</td>\n",
       "      <td>215.2</td>\n",
       "      <td>60</td>\n",
       "      <td>92</td>\n",
       "      <td>118</td>\n",
       "      <td>241.0</td>\n",
       "    </tr>\n",
       "    <tr>\n",
       "      <th>3</th>\n",
       "      <td>60</td>\n",
       "      <td>2020-12-19</td>\n",
       "      <td>100</td>\n",
       "      <td>120</td>\n",
       "      <td>300.0</td>\n",
       "      <td>60</td>\n",
       "      <td>103</td>\n",
       "      <td>123</td>\n",
       "      <td>323.0</td>\n",
       "    </tr>\n",
       "  </tbody>\n",
       "</table>\n",
       "</div>"
      ],
      "text/plain": [
       "   Duration_x       Date  Pulse_x  Maxpulse_x  Calories_x  Duration_y  \\\n",
       "0          60 2020-12-31      104         132       379.3          60   \n",
       "1          60 2020-12-28       98         123       275.0          60   \n",
       "2          60 2020-12-27       98         120       215.2          60   \n",
       "3          60 2020-12-19      100         120       300.0          60   \n",
       "\n",
       "   Pulse_y  Maxpulse_y  Calories_y  \n",
       "0       92         115       243.0  \n",
       "1      103         132         NaN  \n",
       "2       92         118       241.0  \n",
       "3      103         123       323.0  "
      ]
     },
     "execution_count": 75,
     "metadata": {},
     "output_type": "execute_result"
    }
   ],
   "source": [
    "merged_df = pd.merge(df1, df2, on='Date')\n",
    "merged_df"
   ]
  },
  {
   "cell_type": "code",
   "execution_count": 76,
   "metadata": {},
   "outputs": [
    {
     "data": {
      "text/html": [
       "<div>\n",
       "<style scoped>\n",
       "    .dataframe tbody tr th:only-of-type {\n",
       "        vertical-align: middle;\n",
       "    }\n",
       "\n",
       "    .dataframe tbody tr th {\n",
       "        vertical-align: top;\n",
       "    }\n",
       "\n",
       "    .dataframe thead th {\n",
       "        text-align: right;\n",
       "    }\n",
       "</style>\n",
       "<table border=\"1\" class=\"dataframe\">\n",
       "  <thead>\n",
       "    <tr style=\"text-align: right;\">\n",
       "      <th></th>\n",
       "      <th>Duration</th>\n",
       "      <th>Date</th>\n",
       "      <th>Pulse</th>\n",
       "      <th>Maxpulse</th>\n",
       "      <th>Calories</th>\n",
       "    </tr>\n",
       "  </thead>\n",
       "  <tbody>\n",
       "    <tr>\n",
       "      <th>0</th>\n",
       "      <td>60</td>\n",
       "      <td>2020-12-01</td>\n",
       "      <td>110</td>\n",
       "      <td>130</td>\n",
       "      <td>409.1</td>\n",
       "    </tr>\n",
       "    <tr>\n",
       "      <th>1</th>\n",
       "      <td>60</td>\n",
       "      <td>2020-12-02</td>\n",
       "      <td>117</td>\n",
       "      <td>145</td>\n",
       "      <td>479.0</td>\n",
       "    </tr>\n",
       "    <tr>\n",
       "      <th>2</th>\n",
       "      <td>60</td>\n",
       "      <td>2020-12-03</td>\n",
       "      <td>103</td>\n",
       "      <td>135</td>\n",
       "      <td>340.0</td>\n",
       "    </tr>\n",
       "    <tr>\n",
       "      <th>3</th>\n",
       "      <td>45</td>\n",
       "      <td>2020-12-04</td>\n",
       "      <td>109</td>\n",
       "      <td>175</td>\n",
       "      <td>282.4</td>\n",
       "    </tr>\n",
       "    <tr>\n",
       "      <th>4</th>\n",
       "      <td>45</td>\n",
       "      <td>2020-12-05</td>\n",
       "      <td>117</td>\n",
       "      <td>148</td>\n",
       "      <td>406.0</td>\n",
       "    </tr>\n",
       "    <tr>\n",
       "      <th>5</th>\n",
       "      <td>60</td>\n",
       "      <td>2020-12-06</td>\n",
       "      <td>102</td>\n",
       "      <td>127</td>\n",
       "      <td>300.0</td>\n",
       "    </tr>\n",
       "    <tr>\n",
       "      <th>6</th>\n",
       "      <td>60</td>\n",
       "      <td>2020-12-07</td>\n",
       "      <td>110</td>\n",
       "      <td>136</td>\n",
       "      <td>374.0</td>\n",
       "    </tr>\n",
       "    <tr>\n",
       "      <th>7</th>\n",
       "      <td>450</td>\n",
       "      <td>2020-12-08</td>\n",
       "      <td>104</td>\n",
       "      <td>134</td>\n",
       "      <td>253.3</td>\n",
       "    </tr>\n",
       "    <tr>\n",
       "      <th>8</th>\n",
       "      <td>30</td>\n",
       "      <td>2020-12-09</td>\n",
       "      <td>109</td>\n",
       "      <td>133</td>\n",
       "      <td>195.1</td>\n",
       "    </tr>\n",
       "    <tr>\n",
       "      <th>9</th>\n",
       "      <td>60</td>\n",
       "      <td>2020-12-10</td>\n",
       "      <td>98</td>\n",
       "      <td>124</td>\n",
       "      <td>269.0</td>\n",
       "    </tr>\n",
       "  </tbody>\n",
       "</table>\n",
       "</div>"
      ],
      "text/plain": [
       "   Duration       Date  Pulse  Maxpulse  Calories\n",
       "0        60 2020-12-01    110       130     409.1\n",
       "1        60 2020-12-02    117       145     479.0\n",
       "2        60 2020-12-03    103       135     340.0\n",
       "3        45 2020-12-04    109       175     282.4\n",
       "4        45 2020-12-05    117       148     406.0\n",
       "5        60 2020-12-06    102       127     300.0\n",
       "6        60 2020-12-07    110       136     374.0\n",
       "7       450 2020-12-08    104       134     253.3\n",
       "8        30 2020-12-09    109       133     195.1\n",
       "9        60 2020-12-10     98       124     269.0"
      ]
     },
     "execution_count": 76,
     "metadata": {},
     "output_type": "execute_result"
    }
   ],
   "source": [
    "# Example 2: concatenate two DataFrames vertically\n",
    "df_combined = pd.concat([df1, df2])\n",
    "df_combined.head(10)\n"
   ]
  },
  {
   "cell_type": "code",
   "execution_count": 77,
   "metadata": {},
   "outputs": [
    {
     "data": {
      "text/html": [
       "<div>\n",
       "<style scoped>\n",
       "    .dataframe tbody tr th:only-of-type {\n",
       "        vertical-align: middle;\n",
       "    }\n",
       "\n",
       "    .dataframe tbody tr th {\n",
       "        vertical-align: top;\n",
       "    }\n",
       "\n",
       "    .dataframe thead th {\n",
       "        text-align: right;\n",
       "    }\n",
       "</style>\n",
       "<table border=\"1\" class=\"dataframe\">\n",
       "  <thead>\n",
       "    <tr style=\"text-align: right;\">\n",
       "      <th></th>\n",
       "      <th>Duration_x</th>\n",
       "      <th>Date</th>\n",
       "      <th>Pulse_x</th>\n",
       "      <th>Maxpulse_x</th>\n",
       "      <th>Calories_x</th>\n",
       "      <th>Duration_y</th>\n",
       "      <th>Pulse_y</th>\n",
       "      <th>Maxpulse_y</th>\n",
       "      <th>Calories_y</th>\n",
       "    </tr>\n",
       "  </thead>\n",
       "  <tbody>\n",
       "    <tr>\n",
       "      <th>0</th>\n",
       "      <td>60</td>\n",
       "      <td>2020-12-01</td>\n",
       "      <td>110</td>\n",
       "      <td>130</td>\n",
       "      <td>409.1</td>\n",
       "      <td>NaN</td>\n",
       "      <td>NaN</td>\n",
       "      <td>NaN</td>\n",
       "      <td>NaN</td>\n",
       "    </tr>\n",
       "    <tr>\n",
       "      <th>1</th>\n",
       "      <td>60</td>\n",
       "      <td>2020-12-02</td>\n",
       "      <td>117</td>\n",
       "      <td>145</td>\n",
       "      <td>479.0</td>\n",
       "      <td>NaN</td>\n",
       "      <td>NaN</td>\n",
       "      <td>NaN</td>\n",
       "      <td>NaN</td>\n",
       "    </tr>\n",
       "    <tr>\n",
       "      <th>2</th>\n",
       "      <td>60</td>\n",
       "      <td>2020-12-03</td>\n",
       "      <td>103</td>\n",
       "      <td>135</td>\n",
       "      <td>340.0</td>\n",
       "      <td>NaN</td>\n",
       "      <td>NaN</td>\n",
       "      <td>NaN</td>\n",
       "      <td>NaN</td>\n",
       "    </tr>\n",
       "    <tr>\n",
       "      <th>3</th>\n",
       "      <td>45</td>\n",
       "      <td>2020-12-04</td>\n",
       "      <td>109</td>\n",
       "      <td>175</td>\n",
       "      <td>282.4</td>\n",
       "      <td>NaN</td>\n",
       "      <td>NaN</td>\n",
       "      <td>NaN</td>\n",
       "      <td>NaN</td>\n",
       "    </tr>\n",
       "    <tr>\n",
       "      <th>4</th>\n",
       "      <td>45</td>\n",
       "      <td>2020-12-05</td>\n",
       "      <td>117</td>\n",
       "      <td>148</td>\n",
       "      <td>406.0</td>\n",
       "      <td>NaN</td>\n",
       "      <td>NaN</td>\n",
       "      <td>NaN</td>\n",
       "      <td>NaN</td>\n",
       "    </tr>\n",
       "    <tr>\n",
       "      <th>5</th>\n",
       "      <td>60</td>\n",
       "      <td>2020-12-06</td>\n",
       "      <td>102</td>\n",
       "      <td>127</td>\n",
       "      <td>300.0</td>\n",
       "      <td>NaN</td>\n",
       "      <td>NaN</td>\n",
       "      <td>NaN</td>\n",
       "      <td>NaN</td>\n",
       "    </tr>\n",
       "    <tr>\n",
       "      <th>6</th>\n",
       "      <td>60</td>\n",
       "      <td>2020-12-07</td>\n",
       "      <td>110</td>\n",
       "      <td>136</td>\n",
       "      <td>374.0</td>\n",
       "      <td>NaN</td>\n",
       "      <td>NaN</td>\n",
       "      <td>NaN</td>\n",
       "      <td>NaN</td>\n",
       "    </tr>\n",
       "    <tr>\n",
       "      <th>7</th>\n",
       "      <td>450</td>\n",
       "      <td>2020-12-08</td>\n",
       "      <td>104</td>\n",
       "      <td>134</td>\n",
       "      <td>253.3</td>\n",
       "      <td>NaN</td>\n",
       "      <td>NaN</td>\n",
       "      <td>NaN</td>\n",
       "      <td>NaN</td>\n",
       "    </tr>\n",
       "    <tr>\n",
       "      <th>8</th>\n",
       "      <td>30</td>\n",
       "      <td>2020-12-09</td>\n",
       "      <td>109</td>\n",
       "      <td>133</td>\n",
       "      <td>195.1</td>\n",
       "      <td>NaN</td>\n",
       "      <td>NaN</td>\n",
       "      <td>NaN</td>\n",
       "      <td>NaN</td>\n",
       "    </tr>\n",
       "    <tr>\n",
       "      <th>9</th>\n",
       "      <td>60</td>\n",
       "      <td>2020-12-10</td>\n",
       "      <td>98</td>\n",
       "      <td>124</td>\n",
       "      <td>269.0</td>\n",
       "      <td>NaN</td>\n",
       "      <td>NaN</td>\n",
       "      <td>NaN</td>\n",
       "      <td>NaN</td>\n",
       "    </tr>\n",
       "    <tr>\n",
       "      <th>10</th>\n",
       "      <td>60</td>\n",
       "      <td>2020-12-11</td>\n",
       "      <td>103</td>\n",
       "      <td>147</td>\n",
       "      <td>329.3</td>\n",
       "      <td>NaN</td>\n",
       "      <td>NaN</td>\n",
       "      <td>NaN</td>\n",
       "      <td>NaN</td>\n",
       "    </tr>\n",
       "    <tr>\n",
       "      <th>11</th>\n",
       "      <td>60</td>\n",
       "      <td>2020-12-12</td>\n",
       "      <td>100</td>\n",
       "      <td>120</td>\n",
       "      <td>250.7</td>\n",
       "      <td>NaN</td>\n",
       "      <td>NaN</td>\n",
       "      <td>NaN</td>\n",
       "      <td>NaN</td>\n",
       "    </tr>\n",
       "    <tr>\n",
       "      <th>12</th>\n",
       "      <td>60</td>\n",
       "      <td>2020-12-12</td>\n",
       "      <td>100</td>\n",
       "      <td>120</td>\n",
       "      <td>250.7</td>\n",
       "      <td>NaN</td>\n",
       "      <td>NaN</td>\n",
       "      <td>NaN</td>\n",
       "      <td>NaN</td>\n",
       "    </tr>\n",
       "    <tr>\n",
       "      <th>13</th>\n",
       "      <td>60</td>\n",
       "      <td>2020-12-13</td>\n",
       "      <td>106</td>\n",
       "      <td>128</td>\n",
       "      <td>345.3</td>\n",
       "      <td>NaN</td>\n",
       "      <td>NaN</td>\n",
       "      <td>NaN</td>\n",
       "      <td>NaN</td>\n",
       "    </tr>\n",
       "    <tr>\n",
       "      <th>14</th>\n",
       "      <td>60</td>\n",
       "      <td>2020-12-31</td>\n",
       "      <td>104</td>\n",
       "      <td>132</td>\n",
       "      <td>379.3</td>\n",
       "      <td>60.0</td>\n",
       "      <td>92.0</td>\n",
       "      <td>115.0</td>\n",
       "      <td>243.0</td>\n",
       "    </tr>\n",
       "    <tr>\n",
       "      <th>15</th>\n",
       "      <td>60</td>\n",
       "      <td>2020-12-28</td>\n",
       "      <td>98</td>\n",
       "      <td>123</td>\n",
       "      <td>275.0</td>\n",
       "      <td>60.0</td>\n",
       "      <td>103.0</td>\n",
       "      <td>132.0</td>\n",
       "      <td>NaN</td>\n",
       "    </tr>\n",
       "    <tr>\n",
       "      <th>16</th>\n",
       "      <td>60</td>\n",
       "      <td>2020-12-27</td>\n",
       "      <td>98</td>\n",
       "      <td>120</td>\n",
       "      <td>215.2</td>\n",
       "      <td>60.0</td>\n",
       "      <td>92.0</td>\n",
       "      <td>118.0</td>\n",
       "      <td>241.0</td>\n",
       "    </tr>\n",
       "    <tr>\n",
       "      <th>17</th>\n",
       "      <td>60</td>\n",
       "      <td>2020-12-19</td>\n",
       "      <td>100</td>\n",
       "      <td>120</td>\n",
       "      <td>300.0</td>\n",
       "      <td>60.0</td>\n",
       "      <td>103.0</td>\n",
       "      <td>123.0</td>\n",
       "      <td>323.0</td>\n",
       "    </tr>\n",
       "  </tbody>\n",
       "</table>\n",
       "</div>"
      ],
      "text/plain": [
       "    Duration_x       Date  Pulse_x  Maxpulse_x  Calories_x  Duration_y  \\\n",
       "0           60 2020-12-01      110         130       409.1         NaN   \n",
       "1           60 2020-12-02      117         145       479.0         NaN   \n",
       "2           60 2020-12-03      103         135       340.0         NaN   \n",
       "3           45 2020-12-04      109         175       282.4         NaN   \n",
       "4           45 2020-12-05      117         148       406.0         NaN   \n",
       "5           60 2020-12-06      102         127       300.0         NaN   \n",
       "6           60 2020-12-07      110         136       374.0         NaN   \n",
       "7          450 2020-12-08      104         134       253.3         NaN   \n",
       "8           30 2020-12-09      109         133       195.1         NaN   \n",
       "9           60 2020-12-10       98         124       269.0         NaN   \n",
       "10          60 2020-12-11      103         147       329.3         NaN   \n",
       "11          60 2020-12-12      100         120       250.7         NaN   \n",
       "12          60 2020-12-12      100         120       250.7         NaN   \n",
       "13          60 2020-12-13      106         128       345.3         NaN   \n",
       "14          60 2020-12-31      104         132       379.3        60.0   \n",
       "15          60 2020-12-28       98         123       275.0        60.0   \n",
       "16          60 2020-12-27       98         120       215.2        60.0   \n",
       "17          60 2020-12-19      100         120       300.0        60.0   \n",
       "\n",
       "    Pulse_y  Maxpulse_y  Calories_y  \n",
       "0       NaN         NaN         NaN  \n",
       "1       NaN         NaN         NaN  \n",
       "2       NaN         NaN         NaN  \n",
       "3       NaN         NaN         NaN  \n",
       "4       NaN         NaN         NaN  \n",
       "5       NaN         NaN         NaN  \n",
       "6       NaN         NaN         NaN  \n",
       "7       NaN         NaN         NaN  \n",
       "8       NaN         NaN         NaN  \n",
       "9       NaN         NaN         NaN  \n",
       "10      NaN         NaN         NaN  \n",
       "11      NaN         NaN         NaN  \n",
       "12      NaN         NaN         NaN  \n",
       "13      NaN         NaN         NaN  \n",
       "14     92.0       115.0       243.0  \n",
       "15    103.0       132.0         NaN  \n",
       "16     92.0       118.0       241.0  \n",
       "17    103.0       123.0       323.0  "
      ]
     },
     "execution_count": 77,
     "metadata": {},
     "output_type": "execute_result"
    }
   ],
   "source": [
    "# Example 3: perform a left join\n",
    "df_merged = df1.merge(df2, on='Date', how='left')\n",
    "df_merged"
   ]
  },
  {
   "cell_type": "markdown",
   "metadata": {},
   "source": [
    "#### 9. Applying functions to data (apply() & map())"
   ]
  },
  {
   "cell_type": "markdown",
   "metadata": {},
   "source": [
    "Pandas allows applying functions to DataFrame columns using apply() for columns/rows and map() for Series."
   ]
  },
  {
   "cell_type": "code",
   "execution_count": 78,
   "metadata": {},
   "outputs": [
    {
     "data": {
      "text/html": [
       "<div>\n",
       "<style scoped>\n",
       "    .dataframe tbody tr th:only-of-type {\n",
       "        vertical-align: middle;\n",
       "    }\n",
       "\n",
       "    .dataframe tbody tr th {\n",
       "        vertical-align: top;\n",
       "    }\n",
       "\n",
       "    .dataframe thead th {\n",
       "        text-align: right;\n",
       "    }\n",
       "</style>\n",
       "<table border=\"1\" class=\"dataframe\">\n",
       "  <thead>\n",
       "    <tr style=\"text-align: right;\">\n",
       "      <th></th>\n",
       "      <th>Duration</th>\n",
       "      <th>Date</th>\n",
       "      <th>Pulse</th>\n",
       "      <th>Maxpulse</th>\n",
       "      <th>Calories</th>\n",
       "      <th>Rank</th>\n",
       "      <th>Maxpulse_transformed</th>\n",
       "    </tr>\n",
       "  </thead>\n",
       "  <tbody>\n",
       "    <tr>\n",
       "      <th>0</th>\n",
       "      <td>60</td>\n",
       "      <td>'2020/12/01'</td>\n",
       "      <td>110</td>\n",
       "      <td>130</td>\n",
       "      <td>409.1</td>\n",
       "      <td>4.5</td>\n",
       "      <td>117.0</td>\n",
       "    </tr>\n",
       "    <tr>\n",
       "      <th>1</th>\n",
       "      <td>60</td>\n",
       "      <td>'2020/12/02'</td>\n",
       "      <td>117</td>\n",
       "      <td>145</td>\n",
       "      <td>479.0</td>\n",
       "      <td>2.5</td>\n",
       "      <td>130.5</td>\n",
       "    </tr>\n",
       "    <tr>\n",
       "      <th>2</th>\n",
       "      <td>60</td>\n",
       "      <td>'2020/12/03'</td>\n",
       "      <td>103</td>\n",
       "      <td>135</td>\n",
       "      <td>340.0</td>\n",
       "      <td>14.5</td>\n",
       "      <td>121.5</td>\n",
       "    </tr>\n",
       "    <tr>\n",
       "      <th>3</th>\n",
       "      <td>45</td>\n",
       "      <td>'2020/12/04'</td>\n",
       "      <td>109</td>\n",
       "      <td>175</td>\n",
       "      <td>282.4</td>\n",
       "      <td>6.5</td>\n",
       "      <td>157.5</td>\n",
       "    </tr>\n",
       "    <tr>\n",
       "      <th>4</th>\n",
       "      <td>45</td>\n",
       "      <td>'2020/12/05'</td>\n",
       "      <td>117</td>\n",
       "      <td>148</td>\n",
       "      <td>406.0</td>\n",
       "      <td>2.5</td>\n",
       "      <td>133.2</td>\n",
       "    </tr>\n",
       "  </tbody>\n",
       "</table>\n",
       "</div>"
      ],
      "text/plain": [
       "   Duration          Date  Pulse  Maxpulse  Calories  Rank  \\\n",
       "0        60  '2020/12/01'    110       130     409.1   4.5   \n",
       "1        60  '2020/12/02'    117       145     479.0   2.5   \n",
       "2        60  '2020/12/03'    103       135     340.0  14.5   \n",
       "3        45  '2020/12/04'    109       175     282.4   6.5   \n",
       "4        45  '2020/12/05'    117       148     406.0   2.5   \n",
       "\n",
       "   Maxpulse_transformed  \n",
       "0                 117.0  \n",
       "1                 130.5  \n",
       "2                 121.5  \n",
       "3                 157.5  \n",
       "4                 133.2  "
      ]
     },
     "execution_count": 78,
     "metadata": {},
     "output_type": "execute_result"
    }
   ],
   "source": [
    "# Example 2: Apply a custom function to a column\n",
    "df['Maxpulse_transformed'] = df['Maxpulse'].apply(lambda x: x * 0.9)\n",
    "df.head()"
   ]
  },
  {
   "cell_type": "code",
   "execution_count": 79,
   "metadata": {},
   "outputs": [
    {
     "name": "stdout",
     "output_type": "stream",
     "text": [
      "   Duration          Date  Pulse  Maxpulse  Calories  Rank  \\\n",
      "0        60  '2020/12/01'    110       130     409.1   4.5   \n",
      "1        60  '2020/12/02'    117       145     479.0   2.5   \n",
      "2        60  '2020/12/03'    103       135     340.0  14.5   \n",
      "3        45  '2020/12/04'    109       175     282.4   6.5   \n",
      "4        45  '2020/12/05'    117       148     406.0   2.5   \n",
      "\n",
      "   Maxpulse_transformed Category  \n",
      "0                 117.0     High  \n",
      "1                 130.5     High  \n",
      "2                 121.5      Low  \n",
      "3                 157.5      Low  \n",
      "4                 133.2     High  \n"
     ]
    }
   ],
   "source": [
    "# Example 3: Map values to new categories\n",
    "df['Category'] = df['Calories'].map(lambda x: 'High' if x > 400 else 'Low')\n",
    "print(df.head())\n",
    "\n",
    "# Drop columns exemplification\n",
    "df.drop(['Rank', 'Maxpulse_transformed'], axis = 1, inplace=True)"
   ]
  },
  {
   "cell_type": "markdown",
   "metadata": {},
   "source": [
    "## Resources for learning. Insights"
   ]
  },
  {
   "cell_type": "markdown",
   "metadata": {},
   "source": [
    "The best way to master Python, NumPy, and Pandas is through consistent daily practice. Spending at least one to two hours a day solving coding problems, exploring datasets, and working on projects will help solidify your understanding. Rather than passively reading tutorials, you should actively write code and experiment with different techniques.\n",
    "\n",
    "Working with real-world datasets is the best way to improve your data analysis skills. Platforms like Kaggle, Google Datasets, and StrataScratch provide excellent datasets that allow you to apply your knowledge to real scenarios. Instead of only solving theoretical exercises, try tackle a project you may be interested in and follow the best practices :)\n",
    "\n",
    "Building a strong portfolio of projects is also important for landing a job in data science or data engineering. Employers look for candidates who can demonstrate practical skills. A well-documented GitHub repository showcasing data analysis projects / machine learning models will make you stand out"
   ]
  },
  {
   "cell_type": "markdown",
   "metadata": {},
   "source": [
    "Staying curious and adaptable is key to success in the data field. Technology evolves rapidly, and new libraries, tools, and techniques emerge frequently. Keep up with industry trends by reading blogs, attending webinars, and enrolling in advanced courses. Never stop learning, and don’t hesitate to ask questions!"
   ]
  },
  {
   "cell_type": "markdown",
   "metadata": {},
   "source": [
    "- https://www.kaggle.com/learn - Kaggle offers interactive courses for learning Python, Pandas, and NumPy using real-world datasets. The lessons are structured into bite-sized modules with coding exercises that allow you to apply concepts immediately\n",
    "- https://www.datacamp.com/ - DataCamp offers comprehensive, interactive courses for learning Python, NumPy, and Pandas. It includes video tutorials, exercises, and projects, making it one of the most hands-on learning platforms for data science. One of its best features is the career tracks, which guide learners through a structured path from beginner to expert in data science, data engineering, or machine learning\n",
    "- https://www.coursera.org/specializations/machine-learning-introduction - Coursera offers professional certification programs from top universities and tech companies. These courses include real-world projects, industry use cases, and certificates that can enhance your resume.\n",
    "- https://cs50.harvard.edu/python/2022/ - Harvard’s CS50 Python course is a well-structured introduction to Python, covering functions, loops, data structures, and object-oriented programming. The course also includes topics like data handling with Pandas and NumPy and is taught by Harvard professors."
   ]
  }
 ],
 "metadata": {
  "kernelspec": {
   "display_name": "Python 3",
   "language": "python",
   "name": "python3"
  },
  "language_info": {
   "codemirror_mode": {
    "name": "ipython",
    "version": 3
   },
   "file_extension": ".py",
   "mimetype": "text/x-python",
   "name": "python",
   "nbconvert_exporter": "python",
   "pygments_lexer": "ipython3",
   "version": "3.10.12"
  }
 },
 "nbformat": 4,
 "nbformat_minor": 2
}
